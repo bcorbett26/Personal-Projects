{
 "cells": [
  {
   "cell_type": "code",
   "execution_count": 99,
   "metadata": {},
   "outputs": [],
   "source": [
    "import pandas as pd\n",
    "import numpy as np\n",
    "import seaborn as sns\n",
    "import matplotlib.pyplot as plt\n",
    "\n",
    "%matplotlib inline\n",
    "sns.set(style='white',palette='husl')"
   ]
  },
  {
   "cell_type": "code",
   "execution_count": 100,
   "metadata": {},
   "outputs": [],
   "source": [
    "data = pd.read_csv(\"Master's Classification Output.csv\",index_col='Participant')"
   ]
  },
  {
   "cell_type": "code",
   "execution_count": 101,
   "metadata": {},
   "outputs": [
    {
     "data": {
      "text/html": [
       "<div>\n",
       "<style scoped>\n",
       "    .dataframe tbody tr th:only-of-type {\n",
       "        vertical-align: middle;\n",
       "    }\n",
       "\n",
       "    .dataframe tbody tr th {\n",
       "        vertical-align: top;\n",
       "    }\n",
       "\n",
       "    .dataframe thead th {\n",
       "        text-align: right;\n",
       "    }\n",
       "</style>\n",
       "<table border=\"1\" class=\"dataframe\">\n",
       "  <thead>\n",
       "    <tr style=\"text-align: right;\">\n",
       "      <th></th>\n",
       "      <th>Correct_acc</th>\n",
       "      <th>Incorrect_acc</th>\n",
       "      <th>Correct_ev</th>\n",
       "      <th>Incorrect_ev</th>\n",
       "      <th>Age</th>\n",
       "      <th>Chance</th>\n",
       "    </tr>\n",
       "    <tr>\n",
       "      <th>Participant</th>\n",
       "      <th></th>\n",
       "      <th></th>\n",
       "      <th></th>\n",
       "      <th></th>\n",
       "      <th></th>\n",
       "      <th></th>\n",
       "    </tr>\n",
       "  </thead>\n",
       "  <tbody>\n",
       "    <tr>\n",
       "      <th>1</th>\n",
       "      <td>0.736800</td>\n",
       "      <td>0.713875</td>\n",
       "      <td>0.929434</td>\n",
       "      <td>0.924349</td>\n",
       "      <td>1</td>\n",
       "      <td>0.521328</td>\n",
       "    </tr>\n",
       "    <tr>\n",
       "      <th>3</th>\n",
       "      <td>0.757576</td>\n",
       "      <td>0.700342</td>\n",
       "      <td>0.891895</td>\n",
       "      <td>0.896705</td>\n",
       "      <td>1</td>\n",
       "      <td>0.544871</td>\n",
       "    </tr>\n",
       "    <tr>\n",
       "      <th>4</th>\n",
       "      <td>0.789348</td>\n",
       "      <td>0.545098</td>\n",
       "      <td>0.882844</td>\n",
       "      <td>0.869046</td>\n",
       "      <td>1</td>\n",
       "      <td>0.516106</td>\n",
       "    </tr>\n",
       "    <tr>\n",
       "      <th>5</th>\n",
       "      <td>0.818259</td>\n",
       "      <td>0.884259</td>\n",
       "      <td>0.935486</td>\n",
       "      <td>0.891292</td>\n",
       "      <td>1</td>\n",
       "      <td>0.476852</td>\n",
       "    </tr>\n",
       "    <tr>\n",
       "      <th>6</th>\n",
       "      <td>0.839686</td>\n",
       "      <td>0.783767</td>\n",
       "      <td>0.912502</td>\n",
       "      <td>0.928449</td>\n",
       "      <td>1</td>\n",
       "      <td>0.495370</td>\n",
       "    </tr>\n",
       "  </tbody>\n",
       "</table>\n",
       "</div>"
      ],
      "text/plain": [
       "             Correct_acc  Incorrect_acc  Correct_ev  Incorrect_ev  Age  \\\n",
       "Participant                                                              \n",
       "1               0.736800       0.713875    0.929434      0.924349    1   \n",
       "3               0.757576       0.700342    0.891895      0.896705    1   \n",
       "4               0.789348       0.545098    0.882844      0.869046    1   \n",
       "5               0.818259       0.884259    0.935486      0.891292    1   \n",
       "6               0.839686       0.783767    0.912502      0.928449    1   \n",
       "\n",
       "               Chance  \n",
       "Participant            \n",
       "1            0.521328  \n",
       "3            0.544871  \n",
       "4            0.516106  \n",
       "5            0.476852  \n",
       "6            0.495370  "
      ]
     },
     "execution_count": 101,
     "metadata": {},
     "output_type": "execute_result"
    }
   ],
   "source": [
    "data.head()"
   ]
  },
  {
   "cell_type": "code",
   "execution_count": 102,
   "metadata": {},
   "outputs": [
    {
     "name": "stdout",
     "output_type": "stream",
     "text": [
      "<class 'pandas.core.frame.DataFrame'>\n",
      "Int64Index: 50 entries, 1 to 140\n",
      "Data columns (total 6 columns):\n",
      "Correct_acc      50 non-null float64\n",
      "Incorrect_acc    50 non-null float64\n",
      "Correct_ev       50 non-null float64\n",
      "Incorrect_ev     50 non-null float64\n",
      "Age              50 non-null int64\n",
      "Chance           50 non-null float64\n",
      "dtypes: float64(5), int64(1)\n",
      "memory usage: 2.7 KB\n"
     ]
    }
   ],
   "source": [
    "data.info()"
   ]
  },
  {
   "cell_type": "code",
   "execution_count": 103,
   "metadata": {},
   "outputs": [],
   "source": [
    "from scipy import stats\n",
    "from scipy.stats import ttest_rel,ttest_1samp,ttest_ind"
   ]
  },
  {
   "cell_type": "markdown",
   "metadata": {},
   "source": [
    "# Classifier Accuracy"
   ]
  },
  {
   "cell_type": "markdown",
   "metadata": {},
   "source": [
    "Below is the distribution of classifier accuracy values. The values range from 50%-95% with the mean around 70%. A wide spread is to be expected, some brains are noisier than others so the classifier will have a harder time decoding some brains."
   ]
  },
  {
   "cell_type": "code",
   "execution_count": 104,
   "metadata": {},
   "outputs": [
    {
     "name": "stdout",
     "output_type": "stream",
     "text": [
      "Mean Classifier Accuracy = 0.70318515667\n"
     ]
    },
    {
     "data": {
      "image/png": "[encoded data removed]",
      "text/plain": [
       "<Figure size 720x432 with 1 Axes>"
      ]
     },
     "metadata": {},
     "output_type": "display_data"
    }
   ],
   "source": [
    "data['Acc'] = ((data['Correct_acc'] + data['Incorrect_acc'])/2)\n",
    "plt.figure(figsize=(10,6))\n",
    "sns.distplot(data['Acc'],kde=False)\n",
    "plt.title('Distribution of Classifier Accuracy Values',fontsize=14)\n",
    "plt.xlabel('Classifier Accuracy')\n",
    "print 'Mean Classifier Accuracy =', data['Acc'].mean()"
   ]
  },
  {
   "cell_type": "markdown",
   "metadata": {},
   "source": [
    "Before we can interpret the results, we need to make sure the classifier is performing above chance. An independent samples t-test between the classifier accuracy, regardless of memory performance, and chance classifier performace was conducted. *p* < .05, confirming we can decode perceptual category-level information.  "
   ]
  },
  {
   "cell_type": "code",
   "execution_count": 105,
   "metadata": {
    "scrolled": true
   },
   "outputs": [
    {
     "data": {
      "text/plain": [
       "Ttest_indResult(statistic=12.677513236544982, pvalue=5.070967793801483e-20)"
      ]
     },
     "execution_count": 105,
     "metadata": {},
     "output_type": "execute_result"
    }
   ],
   "source": [
    "ttest_ind(data['Acc'],data['Chance'],equal_var=False)"
   ]
  },
  {
   "cell_type": "markdown",
   "metadata": {},
   "source": [
    "In the figure below, we can see that the classifier performs slightly better when participants later correctly remember if the object was paired with a face or scene than when they do not."
   ]
  },
  {
   "cell_type": "code",
   "execution_count": 106,
   "metadata": {},
   "outputs": [
    {
     "data": {
      "text/plain": [
       "Text(0.5,1,'Classifier Accuracy by Memory Performance')"
      ]
     },
     "execution_count": 106,
     "metadata": {},
     "output_type": "execute_result"
    },
    {
     "data": {
      "image/png": "[encoded data removed]",
      "text/plain": [
       "<Figure size 432x288 with 1 Axes>"
      ]
     },
     "metadata": {},
     "output_type": "display_data"
    }
   ],
   "source": [
    "data[['Correct_acc','Incorrect_acc']].mean().plot(kind='bar')\n",
    "plt.title('Classifier Accuracy by Memory Performance',fontsize=13)"
   ]
  },
  {
   "cell_type": "markdown",
   "metadata": {},
   "source": [
    "We can test this with a paired t-test. However, we first need to check that the assumptions of the paired t-test are met. One assumption is that there are no significant outliers. The boxplot below shows that this assumption has been met."
   ]
  },
  {
   "cell_type": "code",
   "execution_count": 107,
   "metadata": {},
   "outputs": [
    {
     "data": {
      "text/plain": [
       "Text(0.5,1,'Classifier Accuracy Boxplot')"
      ]
     },
     "execution_count": 107,
     "metadata": {},
     "output_type": "execute_result"
    },
    {
     "data": {
      "image/png": "[encoded data removed]",
      "text/plain": [
       "<Figure size 432x288 with 1 Axes>"
      ]
     },
     "metadata": {},
     "output_type": "display_data"
    }
   ],
   "source": [
    "data[['Correct_acc','Incorrect_acc']].plot(kind='box')\n",
    "plt.title('Classifier Accuracy Boxplot',fontsize=13)"
   ]
  },
  {
   "cell_type": "markdown",
   "metadata": {},
   "source": [
    "Another assumption is that the variables are normally distributed. This is checked by taking the difference between the two variables rather than checking the raw values. The histogram below shows that they are normally distributed."
   ]
  },
  {
   "cell_type": "code",
   "execution_count": 108,
   "metadata": {},
   "outputs": [
    {
     "data": {
      "text/plain": [
       "Text(0.5,1,'Correct-Incorrect Classifier Accuracy Histogram')"
      ]
     },
     "execution_count": 108,
     "metadata": {},
     "output_type": "execute_result"
    },
    {
     "data": {
      "image/png": "[encoded data removed]",
      "text/plain": [
       "<Figure size 432x288 with 1 Axes>"
      ]
     },
     "metadata": {},
     "output_type": "display_data"
    }
   ],
   "source": [
    "data['Acc_Diff'] = data['Correct_acc'] - data['Incorrect_acc']\n",
    "data['Acc_Diff'].hist(grid=False)\n",
    "plt.title('Correct-Incorrect Classifier Accuracy Histogram',fontsize=13)"
   ]
  },
  {
   "cell_type": "markdown",
   "metadata": {},
   "source": [
    "Since the assumptions are met, we can run the paired t-test. *p* < .05 meaning classifier accuracy is greater when participants correctly remember if the object was paired with a face or scene than when they forget."
   ]
  },
  {
   "cell_type": "code",
   "execution_count": 109,
   "metadata": {},
   "outputs": [
    {
     "data": {
      "text/plain": [
       "Ttest_relResult(statistic=2.3569335926433994, pvalue=0.022467053217720082)"
      ]
     },
     "execution_count": 109,
     "metadata": {},
     "output_type": "execute_result"
    }
   ],
   "source": [
    "ttest_rel(data['Correct_acc'],data['Incorrect_acc'])"
   ]
  },
  {
   "cell_type": "markdown",
   "metadata": {},
   "source": [
    "# Classifier Evidence"
   ]
  },
  {
   "cell_type": "markdown",
   "metadata": {},
   "source": [
    "In the figure below there does not appear to be a difference in evidence when the participant correctly remembers if the object was paired with a face or scene compared to when they forget."
   ]
  },
  {
   "cell_type": "code",
   "execution_count": 110,
   "metadata": {},
   "outputs": [
    {
     "data": {
      "text/plain": [
       "Text(0.5,1,'Classifier Evidence by Memory Performance')"
      ]
     },
     "execution_count": 110,
     "metadata": {},
     "output_type": "execute_result"
    },
    {
     "data": {
      "image/png": "[encoded data removed]",
      "text/plain": [
       "<Figure size 432x288 with 1 Axes>"
      ]
     },
     "metadata": {},
     "output_type": "display_data"
    }
   ],
   "source": [
    "data[['Correct_ev','Incorrect_ev']].mean().plot(kind='bar')\n",
    "plt.title('Classifier Evidence by Memory Performance',fontsize=13)"
   ]
  },
  {
   "cell_type": "markdown",
   "metadata": {},
   "source": [
    "However, we still need to test this using a paired t-test to be sure. Again, before we do so, we need to check that the assumptions of the paired t-test are met. First is that there are no significant outliers. The boxplot below shows that there are a few significant outliers."
   ]
  },
  {
   "cell_type": "code",
   "execution_count": 111,
   "metadata": {},
   "outputs": [
    {
     "data": {
      "text/plain": [
       "Text(0.5,1,'Classifier Evidence Boxplot')"
      ]
     },
     "execution_count": 111,
     "metadata": {},
     "output_type": "execute_result"
    },
    {
     "data": {
      "image/png": "[encoded data removed]",
      "text/plain": [
       "<Figure size 432x288 with 1 Axes>"
      ]
     },
     "metadata": {},
     "output_type": "display_data"
    }
   ],
   "source": [
    "data[['Correct_ev','Incorrect_ev']].plot(kind='box')\n",
    "plt.title('Classifier Evidence Boxplot',fontsize=13)"
   ]
  },
  {
   "cell_type": "markdown",
   "metadata": {},
   "source": [
    "We then need to make sure that variables are normally distributed. The histogram below shows that they are normally distributed."
   ]
  },
  {
   "cell_type": "code",
   "execution_count": 112,
   "metadata": {
    "scrolled": true
   },
   "outputs": [
    {
     "data": {
      "text/plain": [
       "Text(0.5,1,'Correct-Incorrect Classifier Evidence Histogram')"
      ]
     },
     "execution_count": 112,
     "metadata": {},
     "output_type": "execute_result"
    },
    {
     "data": {
      "image/png": "[encoded data removed]",
      "text/plain": [
       "<Figure size 432x288 with 1 Axes>"
      ]
     },
     "metadata": {},
     "output_type": "display_data"
    }
   ],
   "source": [
    "data['Ev_Diff'] = data['Correct_ev'] - data['Incorrect_ev']\n",
    "data['Ev_Diff'].hist(grid=False)\n",
    "plt.title('Correct-Incorrect Classifier Evidence Histogram',fontsize=13)"
   ]
  },
  {
   "cell_type": "markdown",
   "metadata": {},
   "source": [
    "Because the assumption of no outliers was not met, we cannot use a paired t-test. Instead I'm going to use the nonparametric Wilcoxon Sign-Ranked Test. *p*-value > .05 meaning classifier evidence does not differ between when a participant remembers and forgets if the object was paired with a face or scene."
   ]
  },
  {
   "cell_type": "code",
   "execution_count": 113,
   "metadata": {},
   "outputs": [
    {
     "data": {
      "text/plain": [
       "WilcoxonResult(statistic=597.0, pvalue=0.6958284390633942)"
      ]
     },
     "execution_count": 113,
     "metadata": {},
     "output_type": "execute_result"
    }
   ],
   "source": [
    "stats.wilcoxon(data['Ev_Diff'])"
   ]
  },
  {
   "cell_type": "code",
   "execution_count": null,
   "metadata": {},
   "outputs": [],
   "source": []
  }
 ],
 "metadata": {
  "kernelspec": {
   "display_name": "Python 2",
   "language": "python",
   "name": "python2"
  },
  "language_info": {
   "codemirror_mode": {
    "name": "ipython",
    "version": 2
   },
   "file_extension": ".py",
   "mimetype": "text/x-python",
   "name": "python",
   "nbconvert_exporter": "python",
   "pygments_lexer": "ipython2",
   "version": "2.7.16"
  }
 },
 "nbformat": 4,
 "nbformat_minor": 2
}
